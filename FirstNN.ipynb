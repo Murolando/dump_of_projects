{
  "nbformat": 4,
  "nbformat_minor": 0,
  "metadata": {
    "colab": {
      "name": "FirstNN.ipynb",
      "provenance": [],
      "authorship_tag": "ABX9TyNdWTjhauAgGzoSD4blQ0VY",
      "include_colab_link": true
    },
    "kernelspec": {
      "name": "python3",
      "display_name": "Python 3"
    },
    "language_info": {
      "name": "python"
    }
  },
  "cells": [
    {
      "cell_type": "markdown",
      "metadata": {
        "id": "view-in-github",
        "colab_type": "text"
      },
      "source": [
        "<a href=\"https://colab.research.google.com/github/Murolando/dump_of_projects/blob/test/FirstNN.ipynb\" target=\"_parent\"><img src=\"https://colab.research.google.com/assets/colab-badge.svg\" alt=\"Open In Colab\"/></a>"
      ]
    },
    {
      "cell_type": "code",
      "execution_count": null,
      "metadata": {
        "id": "lmFAn_Pdk9IG"
      },
      "outputs": [],
      "source": [
        "import numpy as np\n",
        "import torch as tr\n",
        "import matplotlib.pyplot as plt\n",
        "import seaborn as sns"
      ]
    },
    {
      "cell_type": "markdown",
      "source": [
        "# Train"
      ],
      "metadata": {
        "id": "teFVoJapmyEp"
      }
    },
    {
      "cell_type": "code",
      "source": [
        "x_train = tr.rand(100)\n",
        "x_train = x_train * 20 - 10\n",
        "\n",
        "y_train = tr.sin(x_train)\n",
        "\n",
        "plt.plot(x_train.numpy(),y_train.numpy(),'o')"
      ],
      "metadata": {
        "colab": {
          "base_uri": "https://localhost:8080/",
          "height": 282
        },
        "id": "AthRyv0PlCwa",
        "outputId": "29d79582-14df-4ee9-d0c3-e3379864dcc4"
      },
      "execution_count": null,
      "outputs": [
        {
          "output_type": "execute_result",
          "data": {
            "text/plain": [
              "[<matplotlib.lines.Line2D at 0x7f554da602d0>]"
            ]
          },
          "metadata": {},
          "execution_count": 225
        },
        {
          "output_type": "display_data",
          "data": {
            "text/plain": [
              "<Figure size 432x288 with 1 Axes>"
            ],
            "image/png": "[encoded data removed]"
          },
          "metadata": {
            "needs_background": "light"
          }
        }
      ]
    },
    {
      "cell_type": "code",
      "source": [
        "noise = tr.randn(y_train.shape)/5"
      ],
      "metadata": {
        "id": "zWbWXSXolkzg"
      },
      "execution_count": null,
      "outputs": []
    },
    {
      "cell_type": "code",
      "source": [
        "y_train += noise"
      ],
      "metadata": {
        "id": "tcO_CDiOmLrt"
      },
      "execution_count": null,
      "outputs": []
    },
    {
      "cell_type": "code",
      "source": [
        "plt.plot(x_train.numpy(),y_train.numpy(),'o')"
      ],
      "metadata": {
        "colab": {
          "base_uri": "https://localhost:8080/",
          "height": 282
        },
        "id": "h5RtSAL1mPqh",
        "outputId": "b1c9db09-f754-44de-9600-6c8581b0b38a"
      },
      "execution_count": null,
      "outputs": [
        {
          "output_type": "execute_result",
          "data": {
            "text/plain": [
              "[<matplotlib.lines.Line2D at 0x7f554d5622d0>]"
            ]
          },
          "metadata": {},
          "execution_count": 228
        },
        {
          "output_type": "display_data",
          "data": {
            "text/plain": [
              "<Figure size 432x288 with 1 Axes>"
            ],
            "image/png": "[encoded data removed]"
          },
          "metadata": {
            "needs_background": "light"
          }
        }
      ]
    },
    {
      "cell_type": "code",
      "source": [
        "x_train.unsqueeze_(1)\n",
        "y_train.unsqueeze_(1)\n",
        "print()"
      ],
      "metadata": {
        "colab": {
          "base_uri": "https://localhost:8080/"
        },
        "id": "pwH-rG2omQpP",
        "outputId": "6249a225-b795-4d2b-f0fb-3f59cd8d8b7b"
      },
      "execution_count": null,
      "outputs": [
        {
          "output_type": "stream",
          "name": "stdout",
          "text": [
            "\n"
          ]
        }
      ]
    },
    {
      "cell_type": "markdown",
      "source": [
        "# Valid"
      ],
      "metadata": {
        "id": "uq4RdqCom0ol"
      }
    },
    {
      "cell_type": "code",
      "source": [
        "x_val = tr.linspace(-10,10,100)\n",
        "y_val = tr.sin(x_val.data)"
      ],
      "metadata": {
        "id": "7PXd5ycCmkqN"
      },
      "execution_count": null,
      "outputs": []
    },
    {
      "cell_type": "code",
      "source": [
        "x_val.unsqueeze_(1)\n",
        "y_val.unsqueeze_(1)\n",
        "print()"
      ],
      "metadata": {
        "colab": {
          "base_uri": "https://localhost:8080/"
        },
        "id": "Q5Jpx1lInD3j",
        "outputId": "a627f804-363b-486c-bc42-8ab3eeb02c4a"
      },
      "execution_count": null,
      "outputs": [
        {
          "output_type": "stream",
          "name": "stdout",
          "text": [
            "\n"
          ]
        }
      ]
    },
    {
      "cell_type": "markdown",
      "source": [
        "# NN"
      ],
      "metadata": {
        "id": "5rcInJ1Io5eg"
      }
    },
    {
      "cell_type": "code",
      "source": [
        "class SineNet(tr.nn.Module):\n",
        "\n",
        "  def __init__(self,n_hidden_neurons):\n",
        "    super(SineNet,self).__init__()\n",
        "    self.fc1 = tr.nn.Linear(1, n_hidden_neurons)\n",
        "    self.act1 = tr.nn.Tanh()\n",
        "    self.fc2 = tr.nn.Linear(n_hidden_neurons,1)\n",
        "\n",
        "  def forward(self,x):\n",
        "    x = self.fc1(x)\n",
        "    x = self.act1(x)\n",
        "    x = self.fc2(x)\n",
        "    return x\n",
        "\n",
        "sine_net = SineNet(50)"
      ],
      "metadata": {
        "id": "iFCqydbunQOF"
      },
      "execution_count": null,
      "outputs": []
    },
    {
      "cell_type": "markdown",
      "source": [
        "# Prediction without Training"
      ],
      "metadata": {
        "id": "H5njNBvqymbv"
      }
    },
    {
      "cell_type": "code",
      "source": [
        "def predict(net,x,y):\n",
        "  y_pred = net.forward(x)\n",
        "\n",
        "  plt.plot(x.numpy(), y.numpy(), 'o', label = 'Groud truth')\n",
        "  plt.plot(x.numpy(), y_pred.data.numpy(), 'o',c ='r', label = 'Predictions');\n",
        "\n",
        "  plt.legend(loc = 'upper left')\n",
        "  plt.xlabel('$x$')\n",
        "  plt.ylabel('$y$')\n",
        "\n",
        "predict(sine_net,x_val,y_val)\n"
      ],
      "metadata": {
        "colab": {
          "base_uri": "https://localhost:8080/",
          "height": 279
        },
        "id": "JKmZZXTHqKWG",
        "outputId": "2d29ef32-5d9a-4477-aa9d-f94d1a6e3a3c"
      },
      "execution_count": null,
      "outputs": [
        {
          "output_type": "display_data",
          "data": {
            "text/plain": [
              "<Figure size 432x288 with 1 Axes>"
            ],
            "image/png": "[encoded data removed]"
          },
          "metadata": {
            "needs_background": "light"
          }
        }
      ]
    },
    {
      "cell_type": "code",
      "source": [
        "print(sine_net)"
      ],
      "metadata": {
        "colab": {
          "base_uri": "https://localhost:8080/"
        },
        "id": "fS3yZGVLyr-y",
        "outputId": "8d530cef-534b-4762-ebdc-404ba67adc2c"
      },
      "execution_count": null,
      "outputs": [
        {
          "output_type": "stream",
          "name": "stdout",
          "text": [
            "SineNet(\n",
            "  (fc1): Linear(in_features=1, out_features=50, bias=True)\n",
            "  (act1): Tanh()\n",
            "  (fc2): Linear(in_features=50, out_features=1, bias=True)\n",
            ")\n"
          ]
        }
      ]
    },
    {
      "cell_type": "code",
      "source": [
        ""
      ],
      "metadata": {
        "id": "0QgZ-bfP23qI"
      },
      "execution_count": null,
      "outputs": []
    },
    {
      "cell_type": "markdown",
      "source": [
        "# Optimazer"
      ],
      "metadata": {
        "id": "Y_ahPv5432e4"
      }
    },
    {
      "cell_type": "code",
      "source": [
        "optimizer = tr.optim.Adam(sine_net.parameters(),lr = 0.01)"
      ],
      "metadata": {
        "id": "wEfgd-_m38Hd"
      },
      "execution_count": null,
      "outputs": []
    },
    {
      "cell_type": "markdown",
      "source": [
        "# Loss"
      ],
      "metadata": {
        "id": "zfpUvKjg4UKn"
      }
    },
    {
      "cell_type": "code",
      "source": [
        "def loss(pred,target):\n",
        "  squaers = (pred-target) ** 2\n",
        "  return squaers.mean()"
      ],
      "metadata": {
        "id": "KkroBpKE4Tlm"
      },
      "execution_count": null,
      "outputs": []
    },
    {
      "cell_type": "markdown",
      "source": [
        "#Training + Predict"
      ],
      "metadata": {
        "id": "PN5zBNEq353n"
      }
    },
    {
      "cell_type": "code",
      "source": [
        "for epoch in range(5000):\n",
        "  optimizer.zero_grad()\n",
        "\n",
        "  y_pred = sine_net.forward(x_train)\n",
        "  loss_val = loss(y_pred,y_train)\n",
        "\n",
        "  loss_val.backward()\n",
        "\n",
        "  optimizer.step()\n",
        "\n",
        "predict(sine_net,x_val,y_val)"
      ],
      "metadata": {
        "colab": {
          "base_uri": "https://localhost:8080/",
          "height": 279
        },
        "id": "9Dl2OBjO4R4Y",
        "outputId": "f70abd6e-3ae7-4bf0-9dfc-bce71f586056"
      },
      "execution_count": null,
      "outputs": [
        {
          "output_type": "display_data",
          "data": {
            "text/plain": [
              "<Figure size 432x288 with 1 Axes>"
            ],
            "image/png": "[encoded data removed]"
          },
          "metadata": {
            "needs_background": "light"
          }
        }
      ]
    },
    {
      "cell_type": "code",
      "source": [
        ""
      ],
      "metadata": {
        "id": "LOn0C-Qg5P2r"
      },
      "execution_count": null,
      "outputs": []
    }
  ]
}